{
  "nbformat": 4,
  "nbformat_minor": 0,
  "metadata": {
    "colab": {
      "private_outputs": true,
      "provenance": []
    },
    "kernelspec": {
      "name": "python3",
      "display_name": "Python 3"
    },
    "language_info": {
      "name": "python"
    }
  },
  "cells": [
    {
      "cell_type": "markdown",
      "source": [
        "PRACTICAL QUESTION"
      ],
      "metadata": {
        "id": "9WcKEG6_oT6f"
      }
    },
    {
      "cell_type": "markdown",
      "source": [
        "Ques1) Write a Python function that takes a list of numbers as input and returns the sum of all even numbers in\n",
        "the list."
      ],
      "metadata": {
        "id": "v_O1fqIIobhG"
      }
    },
    {
      "cell_type": "code",
      "source": [
        "def sum_of_even(a):\n",
        "    sum=0\n",
        "    for i in a:\n",
        "        if i % 2==0:\n",
        "            sum=sum+i\n",
        "    return sum\n",
        "\n"
      ],
      "metadata": {
        "id": "E9rcI1rSoqr-"
      },
      "execution_count": null,
      "outputs": []
    },
    {
      "cell_type": "code",
      "source": [
        "sum_of_even([1,4,5,6,7,8,10])"
      ],
      "metadata": {
        "id": "Fu8F7eduv6wP"
      },
      "execution_count": null,
      "outputs": []
    },
    {
      "cell_type": "markdown",
      "source": [
        " Ques2) Create a Python function that accepts a string and returns the reverse of that string."
      ],
      "metadata": {
        "id": "KVE8q95IR6nM"
      }
    },
    {
      "cell_type": "code",
      "source": [
        "def reverse_of_string(text):\n",
        "    return text[::-1]\n",
        "reverse_of_string(\"jitender\")"
      ],
      "metadata": {
        "id": "ckt7wWnlR9Pk"
      },
      "execution_count": null,
      "outputs": []
    },
    {
      "cell_type": "markdown",
      "source": [
        "Ques3)Implement a Python function that takes a list of integers and returns a new list containing the squares of each number"
      ],
      "metadata": {
        "id": "nDXcYAAfkISm"
      }
    },
    {
      "cell_type": "code",
      "source": [
        "def square_of_no(num):\n",
        "  lis=[]\n",
        "  for i in num:\n",
        "    lis.append(i**2)\n",
        "  return lis\n"
      ],
      "metadata": {
        "id": "tPWSxiSWgsoB"
      },
      "execution_count": null,
      "outputs": []
    },
    {
      "cell_type": "code",
      "source": [
        "square_of_no([1,2,3,4,5])"
      ],
      "metadata": {
        "id": "6utU1vA4iyGn"
      },
      "execution_count": null,
      "outputs": []
    },
    {
      "cell_type": "markdown",
      "source": [
        "Ques4)Write a Python function that checks if a given number is prime or not from 1 to 200."
      ],
      "metadata": {
        "id": "j6xmrvRlj_xT"
      }
    },
    {
      "cell_type": "code",
      "source": [
        "def is_prime(num):\n",
        "    if num <= 1:\n",
        "        return False  # 0 and 1 are not prime\n",
        "    for i in range(2, int(num ** 0.5) + 1):\n",
        "        if num % i == 0:\n",
        "            return False  # Divisible by some number\n",
        "    return True  # Prime if no divisors found\n",
        "\n",
        "# Check and print primes from 1 to 200\n",
        "for number in range(1, 201):\n",
        "    if is_prime(number):\n",
        "        print(f\"{number} is a Prime number\")\n",
        "    else:\n",
        "        print(f\"{number} is not a Prime number\")\n"
      ],
      "metadata": {
        "id": "sZhwq86JuvV_"
      },
      "execution_count": null,
      "outputs": []
    },
    {
      "cell_type": "markdown",
      "source": [
        "Ques5)Create an iterator class in Python that generates the Fibonacci sequence up to a specified number of terms."
      ],
      "metadata": {
        "id": "hWsl_pn3PQIR"
      }
    },
    {
      "cell_type": "code",
      "source": [
        "def fibo(n):\n",
        "  a=0\n",
        "  b=1\n",
        "  for  i in range(n):\n",
        "    yield a\n",
        "    a,b=b,a+b\n"
      ],
      "metadata": {
        "id": "onzWg703R0ra"
      },
      "execution_count": null,
      "outputs": []
    },
    {
      "cell_type": "code",
      "source": [
        "f=fibo(21)\n",
        "f"
      ],
      "metadata": {
        "id": "Bp7IeWtZVU6-"
      },
      "execution_count": null,
      "outputs": []
    },
    {
      "cell_type": "code",
      "source": [
        "next(f)"
      ],
      "metadata": {
        "id": "S3-FTbjhVVOL"
      },
      "execution_count": null,
      "outputs": []
    },
    {
      "cell_type": "code",
      "source": [
        "next(f)"
      ],
      "metadata": {
        "id": "3XycL2RAVl8H"
      },
      "execution_count": null,
      "outputs": []
    },
    {
      "cell_type": "code",
      "source": [
        "next(f)"
      ],
      "metadata": {
        "id": "sXXqQeL9Vl_-"
      },
      "execution_count": null,
      "outputs": []
    },
    {
      "cell_type": "code",
      "source": [
        "next(f)"
      ],
      "metadata": {
        "id": "YckTU_JBVmIP"
      },
      "execution_count": null,
      "outputs": []
    },
    {
      "cell_type": "code",
      "source": [
        "next(f)"
      ],
      "metadata": {
        "id": "vfImrKLzVmL4"
      },
      "execution_count": null,
      "outputs": []
    },
    {
      "cell_type": "code",
      "source": [
        "next(f)"
      ],
      "metadata": {
        "id": "B7t1CnzQVmTH"
      },
      "execution_count": null,
      "outputs": []
    },
    {
      "cell_type": "markdown",
      "source": [
        "Ques6) write a generator function in Python that yields the powers of 2 up to a given exponent."
      ],
      "metadata": {
        "id": "Yl94jTHRWGSy"
      }
    },
    {
      "cell_type": "code",
      "source": [
        "def power(num):\n",
        "  for i in range(num):\n",
        "    yield 2**i"
      ],
      "metadata": {
        "id": "iCJ5CwjvWdgo"
      },
      "execution_count": null,
      "outputs": []
    },
    {
      "cell_type": "code",
      "source": [
        "power(6)"
      ],
      "metadata": {
        "id": "54DBu2g_XGu-"
      },
      "execution_count": null,
      "outputs": []
    },
    {
      "cell_type": "code",
      "source": [
        "gen=power(6)\n",
        "gen"
      ],
      "metadata": {
        "id": "mRLaBmmYXG7E"
      },
      "execution_count": null,
      "outputs": []
    },
    {
      "cell_type": "code",
      "source": [
        "next(gen)"
      ],
      "metadata": {
        "id": "SigiFHrnXHGi"
      },
      "execution_count": null,
      "outputs": []
    },
    {
      "cell_type": "code",
      "source": [
        "next(gen)"
      ],
      "metadata": {
        "id": "mrRHs5ZDXHSi"
      },
      "execution_count": null,
      "outputs": []
    },
    {
      "cell_type": "code",
      "source": [
        "next(gen)"
      ],
      "metadata": {
        "id": "sYLaoxrde4XZ"
      },
      "execution_count": null,
      "outputs": []
    },
    {
      "cell_type": "code",
      "source": [
        "next(gen)"
      ],
      "metadata": {
        "id": "2evHgJs5e4dx"
      },
      "execution_count": null,
      "outputs": []
    },
    {
      "cell_type": "code",
      "source": [
        "next(gen)"
      ],
      "metadata": {
        "id": "Jjnn6hoAe4gS"
      },
      "execution_count": null,
      "outputs": []
    },
    {
      "cell_type": "code",
      "source": [
        "next(gen)"
      ],
      "metadata": {
        "id": "rW96IApQe4im"
      },
      "execution_count": null,
      "outputs": []
    },
    {
      "cell_type": "markdown",
      "source": [
        "Ques7) Implement a generator function that reads a file line by line and yields each line as a string."
      ],
      "metadata": {
        "id": "gJ3RdY5UkuIN"
      }
    },
    {
      "cell_type": "code",
      "source": [
        "def read_file_line_by_line(file_path):\n",
        "    with open(file_path, 'r') as file:\n",
        "        for line in file:\n",
        "            yield line.strip()  # Remove trailing newline and spaces\n"
      ],
      "metadata": {
        "id": "ht7prsEikw98"
      },
      "execution_count": null,
      "outputs": []
    },
    {
      "cell_type": "code",
      "source": [
        "# Replace 'example.txt' with your file name\n",
        "for line in read_file_line_by_line('example.txt'):\n",
        "    print(line)\n"
      ],
      "metadata": {
        "id": "n1DUvT4peb66"
      },
      "execution_count": null,
      "outputs": []
    },
    {
      "cell_type": "markdown",
      "source": [
        "Ques8)Use a lambda function in Python to sort a list of tuples based on the second element of each tuple."
      ],
      "metadata": {
        "id": "Qg_pQ4G1kxUx"
      }
    },
    {
      "cell_type": "code",
      "source": [
        "lis=[(\"jitnder\",2),(\"ganesh\",3),(\"prem\",1)]\n",
        "sorted_list=sorted(lis,key=lambda x:x[1])\n",
        "sorted_list"
      ],
      "metadata": {
        "id": "z8uv5RBxmc7x"
      },
      "execution_count": null,
      "outputs": []
    },
    {
      "cell_type": "markdown",
      "source": [
        "Ques9) Write a Python program that uses `map()` to convert a list of temperatures from Celsius to Fahrenheit."
      ],
      "metadata": {
        "id": "Tl-Ot-w9k6Sh"
      }
    },
    {
      "cell_type": "code",
      "source": [
        "def c_to_f(celsius_temp):\n",
        "  return (celsius_temp*9/5)+32\n",
        "celsius=[37,38,39,40,31]\n",
        "list(map(c_to_f,celsius))"
      ],
      "metadata": {
        "id": "nS8Aolg5k_pS"
      },
      "execution_count": null,
      "outputs": []
    },
    {
      "cell_type": "markdown",
      "source": [
        "Ques10). Create a Python program that uses `filter()` to remove all the vowels from a given string"
      ],
      "metadata": {
        "id": "Kay4BZQLlAeR"
      }
    },
    {
      "cell_type": "code",
      "source": [
        "def remove_vowels(s):\n",
        "  vowels='aeiouAEIOU'\n",
        "  return \"\".join(filter(lambda x : x not in vowels,s))\n",
        "\n",
        "text=\"Jitender singh rawat\"\n",
        "result=remove_vowels(text)\n",
        "print(result)\n",
        "\n",
        "\n",
        "\n"
      ],
      "metadata": {
        "id": "npXqW5sBvvMU"
      },
      "execution_count": null,
      "outputs": []
    },
    {
      "cell_type": "markdown",
      "source": [
        "Ques11) Imagine an accounting routine used in a book shop. It works on a list with sublists, which look like this:\n",
        "order number  Book Title and Author              Quantity    pice per item\n",
        "34587         Learning Python ,Mark luitz        4           48.95\n",
        "98762         programming python ,mark lutz       5          58.80\n",
        "77226         Head first python,paul barry        3          32.95\n",
        "88112         Einfuhrung in python 3 Bernd Klein  3          24.99\n",
        "\n",
        "\n",
        "\n",
        "Write a Python program, which returns a list with 2-tuples. Each tuple consists of the order number and the product of the price per item and the quantity. The product should be increased by 10,- € if the value of the\n",
        "order is smaller than 100,00 €.\n",
        "\n",
        "Write a Python program using lambda and map."
      ],
      "metadata": {
        "id": "NfdjUyVglG08"
      }
    },
    {
      "cell_type": "code",
      "source": [
        "orders = [\n",
        "    [34587, \"Learning Python, Mark Lutz\", 4, 40.95],\n",
        "    [98762, \"Programming Python, Mark Lutz\", 5, 56.80],\n",
        "    [77226, \"Head First Python, Paul Barry\", 3, 32.95],\n",
        "    [88112, \"Einführung in Python3, Bernd Klein\", 3, 24.99]\n",
        "]\n",
        "\n",
        "\n",
        "# Use map with lambda to calculate total price\n",
        "list(map(lambda x:(x[0],x[2]*x[3]+10 if x[2]*x[3]<100.00 else x[2]*x[3]),orders))"
      ],
      "metadata": {
        "id": "Dp6nr4_-26_S"
      },
      "execution_count": null,
      "outputs": []
    },
    {
      "cell_type": "markdown",
      "source": [
        "THEORY QUESTION"
      ],
      "metadata": {
        "id": "A4Dowg40lDsc"
      }
    },
    {
      "cell_type": "markdown",
      "source": [
        "Ques1)What is the difference between a function and a method in Python"
      ],
      "metadata": {
        "id": "eCZ2ULzalPur"
      }
    },
    {
      "cell_type": "code",
      "source": [
        "from google.colab import files\n",
        "from IPython.display import Image\n",
        "\n",
        "uploaded = files.upload()  # Upload image\n",
        "\n",
        "# Display image (replace 'your_image.jpg' with the uploaded filename)\n",
        "Image('your_image.jpg')\n"
      ],
      "metadata": {
        "id": "45Gn25MwT8BO"
      },
      "execution_count": null,
      "outputs": []
    },
    {
      "source": [
        "from google.colab import files\n",
        "from IPython.display import Image\n",
        "\n",
        "uploaded = files.upload()  # Upload image\n",
        "\n",
        "# Get the first filename from the uploaded dictionary\n",
        "# Assuming only one file is uploaded or we want to display the first one\n",
        "uploaded_filename = list(uploaded.keys())[0]\n",
        "\n",
        "# Display image using the actual uploaded filename\n",
        "Image(uploaded_filename)"
      ],
      "cell_type": "code",
      "metadata": {
        "id": "dAmCZRWFUdL4"
      },
      "execution_count": null,
      "outputs": []
    },
    {
      "cell_type": "markdown",
      "source": [
        ":3)What are the different ways to define and call a function in Python?\n",
        "\n"
      ],
      "metadata": {
        "id": "4JXJJ3U_n2Ci"
      }
    },
    {
      "cell_type": "markdown",
      "source": [
        "n Python, there are several ways to define and call a function, depending on your needs (e.g., standard functions, anonymous functions, functions with arguments, etc.)."
      ],
      "metadata": {
        "id": "2fUL0-Rp0pZY"
      }
    },
    {
      "cell_type": "markdown",
      "source": [
        "1. Defining Functions\n",
        "a) Standard Function (using def)\n",
        "python\n",
        "Copy code\n"
      ],
      "metadata": {
        "id": "KYYBuDZx1Fgp"
      }
    },
    {
      "cell_type": "code",
      "source": [
        "def greet():\n",
        "    print(\"Hello!\")\n"
      ],
      "metadata": {
        "id": "AwU8W5_P0wOn"
      },
      "execution_count": null,
      "outputs": []
    },
    {
      "cell_type": "markdown",
      "source": [
        "b) Function with Parameters"
      ],
      "metadata": {
        "id": "lX_IJXi31WeD"
      }
    },
    {
      "cell_type": "code",
      "source": [
        "def greet(name):\n",
        "    print(f\"Hello, {name}!\")\n"
      ],
      "metadata": {
        "id": "I79VmT8E0wfM"
      },
      "execution_count": null,
      "outputs": []
    },
    {
      "cell_type": "markdown",
      "source": [
        "c)Function with Default Argument"
      ],
      "metadata": {
        "id": "PZ1qfBbY1SZa"
      }
    },
    {
      "cell_type": "code",
      "source": [
        "def greet(name=\"Guest\"):\n",
        "    print(f\"Hello, {name}!\")\n"
      ],
      "metadata": {
        "id": "JBPBQ7ij0xWE"
      },
      "execution_count": null,
      "outputs": []
    },
    {
      "cell_type": "markdown",
      "source": [
        "d) Function with Variable-Length Argument  \n",
        " *args for positional\n",
        "\n",
        "**kwargs for keyword"
      ],
      "metadata": {
        "id": "lG05S_wd1ttv"
      }
    },
    {
      "cell_type": "code",
      "source": [
        "def print_args(*args):\n",
        "    for arg in args:\n",
        "        print(arg)\n",
        "\n",
        "def print_kwargs(**kwargs):\n",
        "    for key, value in kwargs.items():\n",
        "        print(f\"{key}: {value}\")\n"
      ],
      "metadata": {
        "id": "c3tdWLP62LsN"
      },
      "execution_count": null,
      "outputs": []
    },
    {
      "cell_type": "markdown",
      "source": [
        "e.)Lambda Function (Anonymous Function)"
      ],
      "metadata": {
        "id": "RUtxnWmg2R_g"
      }
    },
    {
      "cell_type": "code",
      "source": [
        "square = lambda x: x * x\n"
      ],
      "metadata": {
        "id": "nAaEM0wU2aYO"
      },
      "execution_count": null,
      "outputs": []
    },
    {
      "cell_type": "markdown",
      "source": [
        "f) Recursive Function"
      ],
      "metadata": {
        "id": "qcw0udxK2mmq"
      }
    },
    {
      "cell_type": "code",
      "source": [
        "def factorial(n):\n",
        "    if n == 0:\n",
        "        return 1\n",
        "    return n * factorial(n - 1)\n"
      ],
      "metadata": {
        "id": "frW6pM-f2tcZ"
      },
      "execution_count": null,
      "outputs": []
    },
    {
      "cell_type": "markdown",
      "source": [],
      "metadata": {
        "id": "ugTBxTMtaIHZ"
      }
    },
    {
      "cell_type": "markdown",
      "source": [
        "2)Calling Function\n",
        "\n",
        "a)Standard Cell"
      ],
      "metadata": {
        "id": "nenby51v2wtz"
      }
    },
    {
      "cell_type": "code",
      "source": [
        "greet()\n",
        "greet(\"Jitu\")\n"
      ],
      "metadata": {
        "id": "KFo_pDoc3AAG"
      },
      "execution_count": null,
      "outputs": []
    },
    {
      "cell_type": "markdown",
      "source": [
        "b) call with default argument"
      ],
      "metadata": {
        "id": "W9YGDxLq3HB3"
      }
    },
    {
      "cell_type": "code",
      "source": [
        "greet()            # Uses default\n",
        "greet(\"Alice\")     # Overrides default\n"
      ],
      "metadata": {
        "id": "pfq9da9z3MCN"
      },
      "execution_count": null,
      "outputs": []
    },
    {
      "cell_type": "markdown",
      "source": [
        "c)**Call with *args or kwargs"
      ],
      "metadata": {
        "id": "3C8X_PYV3TPl"
      }
    },
    {
      "cell_type": "code",
      "source": [
        "print_args(1, 2, 3)\n",
        "print_kwargs(name=\"Jitu\", age=20)\n"
      ],
      "metadata": {
        "id": "9nMr51Ep3cke"
      },
      "execution_count": null,
      "outputs": []
    },
    {
      "cell_type": "markdown",
      "source": [
        "d)Calling lambda"
      ],
      "metadata": {
        "id": "dnrYqWNy3gW6"
      }
    },
    {
      "cell_type": "code",
      "source": [
        "print(square(5))  # Output: 25\n"
      ],
      "metadata": {
        "id": "EAsCSE173pyA"
      },
      "execution_count": null,
      "outputs": []
    },
    {
      "cell_type": "markdown",
      "source": [
        "e.) Calling Returned Function (Closure)\n",
        "python\n"
      ],
      "metadata": {
        "id": "xx6GLEt13zKj"
      }
    },
    {
      "cell_type": "code",
      "source": [
        "def outer():\n",
        "    def inner():\n",
        "        print(\"Inside inner\")\n",
        "    return inner\n",
        "\n",
        "func = outer()\n",
        "func()  # Output: Inside inner\n"
      ],
      "metadata": {
        "id": "PnidIrpX36xJ"
      },
      "execution_count": null,
      "outputs": []
    },
    {
      "cell_type": "markdown",
      "source": [
        "\n",
        " Summary Table\n",
        "Function Type\tKeyword\tExample Call\n",
        "Normal Function\tdef\t greet()\n",
        "With Parameters\tdef\tgreet(\"Jitu\")\n",
        "Default Parameters\tdef\tgreet() or greet(\"X\")\n",
        "*args / **kwargs\tdef\tprint_args(1, 2)\n",
        "Lambda Function\tlambda\tsquare(4)\n",
        "Recursive Function\tdef\tfactorial(5)\n",
        "Closure (Function inside function)\tdef\touter()()"
      ],
      "metadata": {
        "id": "l4ImgcqJ4Oiy"
      }
    },
    {
      "cell_type": "markdown",
      "source": [
        "4)What is the purpose of the `return` statement in a Python function?\n",
        "🧾 Purpose of the return Statement in Python\n",
        "The return statement is used in a function to:\n",
        "\n",
        "✅ 1. Send a result back to the caller\n",
        "When a function finishes running, return passes a value back to the place where the function was called."
      ],
      "metadata": {
        "id": "iSuK8NRB5Smu"
      }
    },
    {
      "cell_type": "code",
      "source": [
        "def add(a, b):\n",
        "    return a + b\n",
        "\n",
        "result = add(2, 3)\n",
        "print(result)  # Output: 5\n"
      ],
      "metadata": {
        "id": "cJB6h07S6xeC"
      },
      "execution_count": null,
      "outputs": []
    },
    {
      "cell_type": "markdown",
      "source": [
        "✅ 2. Exit the function early\n",
        "return also immediately ends the function's execution, even if there is more code below it."
      ],
      "metadata": {
        "id": "s2MUyAe_65Cp"
      }
    },
    {
      "cell_type": "code",
      "source": [
        "def check_number(n):\n",
        "    if n > 0:\n",
        "        return \"Positive\"\n",
        "    return \"Not positive\"\n",
        "\n",
        "print(check_number(5))  # Output: Positive\n"
      ],
      "metadata": {
        "id": "lc-Lo1lX66N9"
      },
      "execution_count": null,
      "outputs": []
    },
    {
      "cell_type": "markdown",
      "source": [
        "✅ 3. Return multiple values (as a tuple)\n",
        "Python functions can return multiple values at once.\n",
        "\n",
        "python\n",
        "Copy code\n"
      ],
      "metadata": {
        "id": "ZdxsF8nk7Gxs"
      }
    },
    {
      "cell_type": "code",
      "source": [
        "def get_info():\n",
        "    name = \"Jitu\"\n",
        "    age = 20\n",
        "    return name, age\n",
        "\n",
        "n, a = get_info()\n",
        "print(n, a)  # Output: Jitu 20\n"
      ],
      "metadata": {
        "id": "8kKp7DTH7IOu"
      },
      "execution_count": null,
      "outputs": []
    },
    {
      "cell_type": "markdown",
      "source": [
        " 4. Return any data type\n",
        "You can return:\n",
        "\n",
        "Numbers: return 42\n",
        "\n",
        "Strings: return \"Hi\"\n",
        "\n",
        "Lists: return [1, 2, 3]\n",
        "\n",
        "Functions or Objects"
      ],
      "metadata": {
        "id": "Oxr-03Z97PjK"
      }
    },
    {
      "cell_type": "markdown",
      "source": [
        "✅ 5. Return None by default\n",
        "If there is no return in a function, it returns None."
      ],
      "metadata": {
        "id": "VvqhNopj7U2p"
      }
    },
    {
      "cell_type": "code",
      "source": [
        "def hello():\n",
        "    print(\"Hi\")\n",
        "\n",
        "x = hello()\n",
        "print(x)  # Output: Hi \\n None\n"
      ],
      "metadata": {
        "id": "Jq9RMx8b7V-1"
      },
      "execution_count": null,
      "outputs": []
    },
    {
      "cell_type": "markdown",
      "source": [
        "🔁 Quick Summary\n",
        "Purpose\tExample\n",
        "Return a value\treturn x + y\n",
        "Exit early\tif condition: return\n",
        "Return multiple values\treturn name, age\n",
        "Return custom types\treturn [1, 2, 3]\n",
        "No return → returns None\tdef f(): pass"
      ],
      "metadata": {
        "id": "0JplkXCA7daY"
      }
    },
    {
      "cell_type": "markdown",
      "source": [
        "5)What are iterators in Python and how do they differ from iterables?"
      ],
      "metadata": {
        "id": "XCLYoco96ZOm"
      }
    },
    {
      "cell_type": "markdown",
      "source": [
        "🔁 1. What is an Iterable in Python?\n",
        "An Iterable is any object that can be looped over (i.e., you can use a for loop with it).\n",
        "\n",
        "✅ Examples of Iterables:\n",
        "list, tuple, str, set, dict, etc."
      ],
      "metadata": {
        "id": "7Eysf9Kk7E_Y"
      }
    },
    {
      "cell_type": "code",
      "source": [
        "nums = [1, 2, 3]\n",
        "for n in nums:\n",
        "    print(n)\n"
      ],
      "metadata": {
        "id": "R10U4wfx70ed"
      },
      "execution_count": null,
      "outputs": []
    },
    {
      "cell_type": "markdown",
      "source": [
        "✔ How it works:\n",
        "An iterable has a method called __iter__() that returns an iterator.\n",
        "\n",
        "🔄 2. What is an Iterator?\n",
        "An Iterator is an object that keeps track of where you are during iteration and gives the next value when you ask for it.\n",
        "\n",
        "✅ Rules of Iterator:\n",
        "Must have two methods:\n",
        "\n",
        "__iter__()\n",
        "\n",
        "__next__()"
      ],
      "metadata": {
        "id": "CslxBhqr7-lQ"
      }
    },
    {
      "cell_type": "code",
      "source": [
        "nums = [10, 20, 30]      # List is iterable\n",
        "it = iter(nums)          # Get an iterator object\n",
        "\n",
        "print(next(it))  # 10\n",
        "print(next(it))  # 20\n",
        "print(next(it))  # 30\n",
        "# print(next(it))  # Raises StopIteration\n"
      ],
      "metadata": {
        "id": "wyiom4mb8BJ2"
      },
      "execution_count": null,
      "outputs": []
    },
    {
      "cell_type": "markdown",
      "source": [
        " 3. Difference: Iterable vs Iterator\n",
        "Feature\tIterable\tIterator\n",
        "Can be looped?\t✅ Yes\t✅ Yes\n",
        "Has __iter__()\t✅ Yes\t✅ Yes\n",
        "Has __next__()\t❌ No (not directly)\t✅ Yes\n",
        "Needs iter() to start iteration\t✅ Yes\t❌ No (already ready)\n",
        "Examples\tlist, tuple, str, dict\tobject returned by iter()\n",
        "\n",
        "🔁 Custom Iterator Example"
      ],
      "metadata": {
        "id": "5A71zEk18Lfe"
      }
    },
    {
      "cell_type": "code",
      "source": [
        "class CountDown:\n",
        "    def __init__(self, start):\n",
        "        self.num = start\n",
        "\n",
        "    def __iter__(self):\n",
        "        return self\n",
        "\n",
        "    def __next__(self):\n",
        "        if self.num <= 0:\n",
        "            raise StopIteration\n",
        "        val = self.num\n",
        "        self.num -= 1\n",
        "        return val\n",
        "\n",
        "cd = CountDown(3)\n",
        "for i in cd:\n",
        "    print(i)\n",
        "# Output: 3, 2, 1\n"
      ],
      "metadata": {
        "id": "kD35HDlW8NVu"
      },
      "execution_count": null,
      "outputs": []
    },
    {
      "cell_type": "markdown",
      "source": [
        "🧠 In Short:\n",
        "Iterable = can be looped over.\n",
        "\n",
        "Iterator = gives values one by one using next()."
      ],
      "metadata": {
        "id": "QbV6z71d8Tuu"
      }
    },
    {
      "cell_type": "markdown",
      "source": [
        "6)Explain the concept of generators in Python and how they are defined."
      ],
      "metadata": {
        "id": "jDUqd9eV8UzE"
      }
    },
    {
      "cell_type": "markdown",
      "source": [
        "⚙️ What is a Generator in Python?\n",
        "A generator is a special type of iterator that allows you to generate values one at a time, only when needed, using the yield keyword instead of return.\n",
        "\n",
        "It’s memory-efficient, especially for large data, because it doesn’t store all values in memory — it yields them one at a time.\n",
        "\n",
        " How to Define a Generator\n",
        " 1. Using a Function with yield"
      ],
      "metadata": {
        "id": "SmhB4e7282LN"
      }
    },
    {
      "cell_type": "code",
      "source": [
        "def count_up_to(n):\n",
        "    i = 1\n",
        "    while i <= n:\n",
        "        yield i\n",
        "        i += 1\n"
      ],
      "metadata": {
        "id": "tby5_FHX83cT"
      },
      "execution_count": null,
      "outputs": []
    },
    {
      "cell_type": "markdown",
      "source": [
        "This function returns a generator object. It doesn’t run immediately — values are produced one-by-one when you use next().\n",
        "\n",
        "▶️ Using the Generator:"
      ],
      "metadata": {
        "id": "aROD3sgt8-Ft"
      }
    },
    {
      "cell_type": "code",
      "source": [
        "gen = count_up_to(3)\n",
        "print(next(gen))  # 1\n",
        "print(next(gen))  # 2\n",
        "print(next(gen))  # 3\n",
        "# next(gen) → StopIteration\n"
      ],
      "metadata": {
        "id": "kVBFrOfH9A8F"
      },
      "execution_count": null,
      "outputs": []
    },
    {
      "cell_type": "markdown",
      "source": [
        "✅ 2. Using a Generator Expression (like list comprehension)"
      ],
      "metadata": {
        "id": "agAJU1cN9G1_"
      }
    },
    {
      "cell_type": "code",
      "source": [
        "gen = (x*x for x in range(3))\n",
        "print(next(gen))  # 0\n",
        "print(next(gen))  # 1\n",
        "print(next(gen))  # 4\n"
      ],
      "metadata": {
        "id": "-p8t5ydL9I3Q"
      },
      "execution_count": null,
      "outputs": []
    },
    {
      "cell_type": "markdown",
      "source": [
        "How yield Works yield pauses the function and remembers its state.\n",
        "\n",
        "The function resumes from where it left off the next time you call next().\n",
        "\n",
        "python Copy code\n",
        "\n"
      ],
      "metadata": {
        "id": "V-qLvnC09qUZ"
      }
    },
    {
      "cell_type": "code",
      "source": [
        "def greet():\n",
        "    yield \"Hello\"\n",
        "    yield \"Hi\"\n",
        "    yield \"Bye\"\n",
        "\n",
        "g = greet()\n",
        "for word in g:\n",
        "    print(word)\n",
        "# Output: Hello, Hi, Bye\n"
      ],
      "metadata": {
        "id": "0cLLQ8bm9NF7"
      },
      "execution_count": null,
      "outputs": []
    },
    {
      "cell_type": "markdown",
      "source": [
        "🔍 Generator vs Normal Function\n",
        "Feature\tNormal Function\tGenerator Function\n",
        "Uses return\t✅ Yes\t❌ No\n",
        "Uses yield\t❌ No\t✅ Yes\n",
        "Returns\tOne final value\tOne value at a time\n",
        "Memory usage\tLoads all values\tLazy evaluation (saves memory)\n",
        "\n",
        "✅ Benefits of Generators\n",
        "🧠 Efficient for large datasets\n",
        "\n",
        "🐍 Pythonic way to stream data\n",
        "\n",
        "⏱️ Faster startup time for big loops\n",
        "\n"
      ],
      "metadata": {
        "id": "npaCPdEz9wbV"
      }
    },
    {
      "cell_type": "markdown",
      "source": [
        "7 )What are the advantages of using generators over regular functions?"
      ],
      "metadata": {
        "id": "C0MG6jO4aLVT"
      }
    },
    {
      "cell_type": "markdown",
      "source": [
        "Generators are special types of iterators that yield items one at a time using the yield keyword instead of returning them all at once.\n",
        "\n",
        "✅ Advantages:\n",
        "Memory Efficient:\n",
        "They don’t store the entire data in memory. Useful for large data sets or infinite sequences.\n",
        "\n",
        "Lazy Evaluation:\n",
        "Values are generated on the fly only when needed, saving time and space.\n",
        "\n",
        "Stateful Iteration:\n",
        "Generators maintain their state between iterations, simplifying logic for sequences.\n",
        "\n",
        "Improved Performance:\n",
        "Since values are computed as needed, execution is often faster when working with large data."
      ],
      "metadata": {
        "id": "n9wl32gwab5f"
      }
    },
    {
      "cell_type": "code",
      "source": [
        "def my_gen():\n",
        "    for i in range(5):\n",
        "        yield i\n",
        "\n",
        "for num in my_gen():\n",
        "    print(num)\n"
      ],
      "metadata": {
        "id": "U-b_ZTeaalND"
      },
      "execution_count": null,
      "outputs": []
    },
    {
      "cell_type": "markdown",
      "source": [
        "8.) What is a lambda function in Python and when is it typically used?"
      ],
      "metadata": {
        "id": "LNoClLL6atPq"
      }
    },
    {
      "cell_type": "markdown",
      "source": [
        "A lambda function is an anonymous (unnamed) function defined using the lambda keyword.\n",
        "\n",
        "✅ Syntax:\n",
        "python\n",
        "Copy\n",
        "Edit\n",
        "lambda arguments: expression\n",
        "✅ When to use:\n",
        "When you need a simple function for short-term use.\n",
        "\n",
        "Especially used with functions like map(), filter(), and sorted().\n",
        "\n",
        "Example:"
      ],
      "metadata": {
        "id": "xGWsykada1NR"
      }
    },
    {
      "cell_type": "code",
      "source": [
        "square = lambda x: x * x\n",
        "print(square(5))  # Output: 25\n"
      ],
      "metadata": {
        "id": "Pi7FKjZBa9yy"
      },
      "execution_count": null,
      "outputs": []
    },
    {
      "cell_type": "markdown",
      "source": [
        "9.) Explain the purpose and usage of the map() function in Python.\n",
        "The map() function applies a function to each item in an iterable (like a list or tuple) and returns a map object (which is iterable).\n",
        "\n",
        "✅ Syntax:\n",
        "python\n",
        "Copy\n",
        "Edit\n"
      ],
      "metadata": {
        "id": "QSV25JTtbFOH"
      }
    },
    {
      "cell_type": "code",
      "source": [
        "map(function, iterable)\n"
      ],
      "metadata": {
        "id": "Ww4-ufAMbHhe"
      },
      "execution_count": null,
      "outputs": []
    },
    {
      "cell_type": "code",
      "source": [
        "def square(x):\n",
        "    return x * x\n",
        "\n",
        "nums = [1, 2, 3]\n",
        "result = map(square, nums)\n",
        "print(list(result))  # Output: [1, 4, 9]\n"
      ],
      "metadata": {
        "id": "_4GL7_epbOjP"
      },
      "execution_count": null,
      "outputs": []
    },
    {
      "cell_type": "markdown",
      "source": [
        "you can also use it with a lambda\n",
        "Edit\n"
      ],
      "metadata": {
        "id": "I9nojSDxbVCn"
      }
    },
    {
      "cell_type": "code",
      "source": [
        "def square(x):\n",
        "    return x * x\n",
        "\n",
        "nums = [1, 2, 3]\n",
        "result = map(square, nums)\n",
        "print(list(result))  # Output: [1, 4, 9]\n"
      ],
      "metadata": {
        "id": "VtN5A2-EbPjV"
      },
      "execution_count": null,
      "outputs": []
    },
    {
      "cell_type": "markdown",
      "source": [
        "10.) What is the difference between map(), reduce(), and filter() functions in Python?\n",
        "Function\tPurpose\tInput\tOutput\tExample Use\n",
        "map()\tApplies a function to all items\tFunction + Iterable\tMap object (each element transformed)\tSquaring numbers in a list\n",
        "filter()\tFilters items based on a condition\tFunction (returns True/False) + Iterable\tFilter object (filtered elements)\tFiltering even numbers\n",
        "reduce() (from functools)\tApplies function cumulatively to reduce to a single value\tFunction + Iterable\tSingle value\tSum of list items\n"
      ],
      "metadata": {
        "id": "X_VUPrhiblyh"
      }
    },
    {
      "cell_type": "code",
      "source": [
        "from functools import reduce\n",
        "\n",
        "# map\n",
        "print(list(map(lambda x: x * 2, [1, 2, 3])))     # [2, 4, 6]\n",
        "\n",
        "# filter\n",
        "print(list(filter(lambda x: x % 2 == 0, [1, 2, 3, 4])))  # [2, 4]\n",
        "\n",
        "# reduce\n",
        "print(reduce(lambda x, y: x + y, [1, 2, 3, 4]))  # 10\n"
      ],
      "metadata": {
        "id": "BARqeEPzbq6T"
      },
      "execution_count": null,
      "outputs": []
    },
    {
      "cell_type": "markdown",
      "source": [
        "10). Using pen & Paper write the internal mechanism for sum operation using  reduce function on this given  list:[47,11,42,13];"
      ],
      "metadata": {
        "id": "HQXLNRsAdSPt"
      }
    },
    {
      "cell_type": "markdown",
      "source": [
        "🔢 Step-by-step mechanism of\n",
        "python\n",
        "Copy\n",
        "Edit\n",
        "from functools import reduce\n",
        "reduce(lambda x, y: x + y, [47, 11, 42, 13])\n",
        "🧠 Internal Working (Pen & Paper style)\n",
        "Let’s call the function step by step:\n",
        "\n",
        "Initial List: [47, 11, 42, 13]\n",
        "🔁 Step 1:\n",
        "x = 47, y = 11\n",
        "→ x + y = 58\n",
        "\n",
        "🔁 Step 2:\n",
        "Now x = 58, y = 42\n",
        "→ x + y = 100\n",
        "\n",
        "🔁 Step 3:\n",
        "Now x = 100, y = 13\n",
        "→ x + y = 113\n",
        "\n",
        "✅ Final Result: 113\n",
        "🔍 Breakdown Table:\n",
        "Step\tx\ty\tx + y\tResult Passed to Next Step\n",
        "1\t47\t11\t58\t58\n",
        "2\t58\t42\t100\t100\n",
        "3\t100\t13\t113\t113\n",
        "\n",
        "💡 Summary:\n",
        "reduce() works like this:\n",
        "\n",
        "css\n",
        "Copy\n",
        "Edit\n",
        "Step 1: f(47, 11) → 58  \n",
        "Step 2: f(58, 42) → 100  \n",
        "Step 3: f(100, 13) → 113  \n",
        "→ Final Output = 113"
      ],
      "metadata": {
        "id": "xLYSHFvndPMA"
      }
    },
    {
      "cell_type": "code",
      "source": [],
      "metadata": {
        "id": "13Wsdw7CReIu"
      },
      "execution_count": null,
      "outputs": []
    },
    {
      "cell_type": "markdown",
      "source": [
        "[link text](https://drive.google.com/file/d/1DeDsYUT_RPWT7PoQky4CL2zlyVo7xC_C/view?usp=drive_link)"
      ],
      "metadata": {
        "id": "CRV0Lp8bRlLH"
      }
    },
    {
      "cell_type": "code",
      "source": [
        "from IPython.display import Image\n",
        "from IPython.display import Image\n",
        "from IPython.display import Image\n",
        "from IPython.display import Image\n",
        "\n",
        "# Replace the URL below with your image's URL\n",
        "Image(url=\"https://drive.google.com//d/1DeDsYUT_RPWT7PoQky4CL2zlyVo7xC_C/view?usp=drive_link\")"
      ],
      "metadata": {
        "id": "feRythfwRrd4"
      },
      "execution_count": null,
      "outputs": []
    }
  ]
}